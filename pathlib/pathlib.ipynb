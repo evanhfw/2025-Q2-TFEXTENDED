{
  "cells": [
    {
      "cell_type": "markdown",
      "metadata": {},
      "source": [
        "# Getting Started: Menguasai `pathlib` untuk Manipulasi File dan Direktori\n",
        "\n",
        "Selamat datang di panduan `pathlib`! Lupakan cara lama menggunakan `os.path` yang rumit dan rawan kesalahan. `pathlib` adalah modul modern di Python yang menyediakan cara yang lebih intuitif, *object-oriented*, dan lintas platform untuk bekerja dengan path file sistem.\n",
        "\n",
        "Dalam notebook ini, kita akan membahas konsep-konsep fundamental yang harus Anda kuasai."
      ]
    },
    {
      "cell_type": "markdown",
      "metadata": {},
      "source": [
        "## Konsep 1: Membuat Objek `Path`\n",
        "\n",
        "Semuanya di `pathlib` dimulai dengan membuat objek `Path`. Objek ini merepresentasikan sebuah path (bisa file atau direktori), dan semua operasi dilakukan melalui *method* dari objek ini.\n",
        "\n",
        "Kita mengimpor kelas `Path` dari modul `pathlib`."
      ]
    },
    {
      "cell_type": "code",
      "execution_count": 2,
      "metadata": {},
      "outputs": [
        {
          "name": "stdout",
          "output_type": "stream",
          "text": [
            "Path yang dibuat: direktori_contoh/sub_direktori/file_saya.txt\n",
            "Tipe objek: <class 'pathlib.PosixPath'>\n"
          ]
        }
      ],
      "source": [
        "from pathlib import Path\n",
        "\n",
        "# Membuat objek Path dari sebuah string\n",
        "p = Path('direktori_contoh/sub_direktori/file_saya.txt')\n",
        "\n",
        "print(f\"Path yang dibuat: {p}\")\n",
        "print(f\"Tipe objek: {type(p)}\")"
      ]
    },
    {
      "cell_type": "markdown",
      "metadata": {},
      "source": [
        "### Cara Modern Menggabungkan Path\n",
        "\n",
        "Salah satu keunggulan terbesar `pathlib` adalah kemudahan menggabungkan path menggunakan operator `/`. Ini jauh lebih bersih daripada `os.path.join()`."
      ]
    },
    {
      "cell_type": "code",
      "execution_count": 3,
      "metadata": {},
      "outputs": [
        {
          "name": "stdout",
          "output_type": "stream",
          "text": [
            "Path gabungan: direktori_contoh/data_raw/file_utama.csv\n",
            "\n",
            "Direktori saat ini: /home/evan/Data/0 - Organized Folder/02 - Work/06 - Learning/2025 Q2 TFEXTENDED\n",
            "Direktori home: /home/evan\n"
          ]
        }
      ],
      "source": [
        "direktori_utama = Path('direktori_contoh')\n",
        "nama_file = 'file_utama.csv'\n",
        "\n",
        "# Menggabungkan path dengan mudah\n",
        "path_lengkap = direktori_utama / 'data_raw' / nama_file\n",
        "\n",
        "print(f\"Path gabungan: {path_lengkap}\")\n",
        "\n",
        "# Path juga bisa mengambil path spesial seperti direktori kerja saat ini (current working directory) dan home\n",
        "print(f\"\\nDirektori saat ini: {Path.cwd()}\")\n",
        "print(f\"Direktori home: {Path.home()}\")"
      ]
    },
    {
      "cell_type": "markdown",
      "metadata": {},
      "source": [
        "## Konsep 2: Mengakses Komponen-komponen Path\n",
        "\n",
        "Setelah memiliki objek `Path`, kita bisa dengan mudah mendapatkan bagian-bagiannya seperti nama file, ekstensi, atau direktori induknya."
      ]
    },
    {
      "cell_type": "code",
      "execution_count": 4,
      "metadata": {},
      "outputs": [
        {
          "name": "stdout",
          "output_type": "stream",
          "text": [
            "Path lengkap: /home/user/project/data/report.xlsx\n",
            "Nama file (name): report.xlsx\n",
            "Nama file tanpa ekstensi (stem): report\n",
            "Ekstensi file (suffix): .xlsx\n",
            "Direktori induk (parent): /home/user/project/data\n",
            "Semua bagian path (parts): ('/', 'home', 'user', 'project', 'data', 'report.xlsx')\n",
            "Akar path (anchor): /\n"
          ]
        }
      ],
      "source": [
        "p = Path('/home/user/project/data/report.xlsx')\n",
        "\n",
        "print(f\"Path lengkap: {p}\")\n",
        "print(f\"Nama file (name): {p.name}\")\n",
        "print(f\"Nama file tanpa ekstensi (stem): {p.stem}\")\n",
        "print(f\"Ekstensi file (suffix): {p.suffix}\")\n",
        "print(f\"Direktori induk (parent): {p.parent}\")\n",
        "print(f\"Semua bagian path (parts): {p.parts}\")\n",
        "print(f\"Akar path (anchor): {p.anchor}\")"
      ]
    },
    {
      "cell_type": "markdown",
      "metadata": {},
      "source": [
        "## Konsep 3: Memeriksa Properti Path (Inspeksi)\n",
        "\n",
        "`pathlib` memudahkan kita untuk memeriksa apakah sebuah path itu ada, apakah itu file, atau apakah itu direktori."
      ]
    },
    {
      "cell_type": "code",
      "execution_count": 5,
      "metadata": {},
      "outputs": [
        {
          "name": "stdout",
          "output_type": "stream",
          "text": [
            "Apakah folder_test ada? True\n",
            "Apakah folder_test/file_test.txt ada? True\n",
            "Apakah folder_ini_tidak_ada ada? False\n",
            "\n",
            "--- Pengecekan Tipe ---\n",
            "Apakah folder_test adalah direktori? True\n",
            "Apakah folder_test/file_test.txt adalah direktori? False\n",
            "Apakah folder_test/file_test.txt adalah file? True\n"
          ]
        }
      ],
      "source": [
        "# Kita akan membuat file dan direktori sungguhan untuk contoh ini\n",
        "dir_test = Path('folder_test')\n",
        "dir_test.mkdir(exist_ok=True) # exist_ok=True agar tidak error jika folder sudah ada\n",
        "\n",
        "file_test = dir_test / 'file_test.txt'\n",
        "file_test.touch() # .touch() membuat file kosong\n",
        "\n",
        "path_tidak_ada = Path('folder_ini_tidak_ada')\n",
        "\n",
        "print(f\"Apakah {dir_test} ada? {dir_test.exists()}\")\n",
        "print(f\"Apakah {file_test} ada? {file_test.exists()}\")\n",
        "print(f\"Apakah {path_tidak_ada} ada? {path_tidak_ada.exists()}\")\n",
        "\n",
        "print(\"\\n--- Pengecekan Tipe ---\")\n",
        "print(f\"Apakah {dir_test} adalah direktori? {dir_test.is_dir()}\")\n",
        "print(f\"Apakah {file_test} adalah direktori? {file_test.is_dir()}\")\n",
        "print(f\"Apakah {file_test} adalah file? {file_test.is_file()}\")"
      ]
    },
    {
      "cell_type": "markdown",
      "metadata": {},
      "source": [
        "## Konsep 4: Manipulasi File dan Direktori\n",
        "\n",
        "Ini adalah bagian terpenting: membuat, membaca, menulis, mengubah nama, dan menghapus file/direktori."
      ]
    },
    {
      "cell_type": "markdown",
      "metadata": {},
      "source": [
        "### 4.1. Membuat Direktori & Menulis/Membaca File Teks"
      ]
    },
    {
      "cell_type": "code",
      "execution_count": null,
      "metadata": {},
      "outputs": [],
      "source": [
        "# Membuat direktori baru untuk data\n",
        "data_dir = Path('data_output')\n",
        "data_dir.mkdir(exist_ok=True)\n",
        "print(f\"Direktori '{data_dir}' berhasil dibuat atau sudah ada.\")\n",
        "\n",
        "# Membuat path file di dalam direktori tersebut\n",
        "file_salam = data_dir / 'salam.txt'\n",
        "\n",
        "# Menulis teks ke file (jika file belum ada, akan dibuat otomatis)\n",
        "jumlah_karakter = file_salam.write_text('Halo dari pathlib! Ini sangat mudah.')\n",
        "print(f\"Berhasil menulis {jumlah_karakter} karakter ke {file_salam}\")\n",
        "\n",
        "# Membaca teks dari file\n",
        "isi_file = file_salam.read_text()\n",
        "print(f\"\\nIsi dari {file_salam}:\\n'{isi_file}'\")"
      ]
    },
    {
      "cell_type": "markdown",
      "metadata": {},
      "source": [
        "### 4.2. Iterasi Isi Direktori (Listing Files)\n",
        "\n",
        "Seringkali kita perlu melihat file apa saja yang ada di dalam sebuah direktori. `pathlib` menyediakan cara yang sangat elegan untuk ini.\n",
        "\n",
        "- `.iterdir()`: Mengambil semua item (file & folder) di level teratas direktori.\n",
        "- `.glob(pattern)`: Mencari item yang cocok dengan *pattern* tertentu (misal: `*.txt`).\n",
        "- `.rglob(pattern)`: Sama seperti `glob` tapi mencari secara rekursif (ke semua sub-direktori)."
      ]
    },
    {
      "cell_type": "code",
      "execution_count": null,
      "metadata": {},
      "outputs": [],
      "source": [
        "# Membuat beberapa file dummy untuk iterasi\n",
        "(data_dir / 'laporan_2024.csv').touch()\n",
        "(data_dir / 'laporan_2025.csv').touch()\n",
        "(data_dir / 'catatan.txt').touch()\n",
        "(data_dir / 'arsip').mkdir(exist_ok=True)\n",
        "(data_dir / 'arsip' / 'dokumen_lama.txt').touch()\n",
        "\n",
        "print(f\"--- Menggunakan .iterdir() di '{data_dir}' ---\")\n",
        "for item in data_dir.iterdir():\n",
        "    print(item)\n",
        "\n",
        "print(f\"\\n--- Mencari semua file .csv dengan .glob('*.csv') ---\")\n",
        "for csv_file in data_dir.glob('*.csv'):\n",
        "    print(csv_file)\n",
        "\n",
        "print(f\"\\n--- Mencari semua file .txt secara rekursif dengan .rglob('*.txt') ---\")\n",
        "for txt_file in data_dir.rglob('*.txt'):\n",
        "    print(txt_file)"
      ]
    },
    {
      "cell_type": "markdown",
      "metadata": {},
      "source": [
        "### 4.3. Mengubah Nama / Memindahkan (Rename/Move)\n",
        "\n",
        "Method `.rename()` digunakan untuk mengubah nama file atau memindahkannya ke direktori lain."
      ]
    },
    {
      "cell_type": "code",
      "execution_count": null,
      "metadata": {},
      "outputs": [],
      "source": [
        "file_catatan = data_dir / 'catatan.txt'\n",
        "target_nama_baru = data_dir / 'CATATAN_PENTING.txt'\n",
        "\n",
        "print(f\"Mengubah nama '{file_catatan.name}' menjadi '{target_nama_baru.name}'\")\n",
        "if file_catatan.exists(): file_catatan.rename(target_nama_baru)\n",
        "\n",
        "print(f\"Apakah nama lama masih ada? {file_catatan.exists()}\")\n",
        "print(f\"Apakah nama baru sudah ada? {target_nama_baru.exists()}\")\n",
        "\n",
        "# Memindahkan file ke direktori 'arsip'\n",
        "target_pindah = data_dir / 'arsip' / target_nama_baru.name\n",
        "print(f\"\\nMemindahkan '{target_nama_baru.name}' ke '{target_pindah.parent}'\")\n",
        "if target_nama_baru.exists(): target_nama_baru.rename(target_pindah)\n",
        "\n",
        "print(f\"Apakah file masih di lokasi lama? {target_nama_baru.exists()}\")\n",
        "print(f\"Apakah file sudah di lokasi baru? {target_pindah.exists()}\")"
      ]
    },
    {
      "cell_type": "markdown",
      "metadata": {},
      "source": [
        "### 4.4. Menghapus File dan Direktori\n",
        "\n",
        "- `.unlink()`: Menghapus sebuah file.\n",
        "- `.rmdir()`: Menghapus sebuah direktori (direktori harus kosong).\n",
        "\n",
        "**Peringatan:** Operasi penghapusan bersifat permanen! Gunakan dengan hati-hati."
      ]
    },
    {
      "cell_type": "code",
      "execution_count": null,
      "metadata": {},
      "outputs": [],
      "source": [
        "# Menghapus file laporan_2024.csv\n",
        "file_untuk_dihapus = data_dir / 'laporan_2024.csv'\n",
        "if file_untuk_dihapus.exists():\n",
        "    file_untuk_dihapus.unlink()\n",
        "    print(f\"File '{file_untuk_dihapus}' berhasil dihapus.\")\n",
        "\n",
        "# Menghapus direktori (setelah isinya kita hapus semua)\n",
        "# Pertama, kita bersihkan folder_test dari awal\n",
        "for item in dir_test.glob('*'): item.unlink()\n",
        "dir_test.rmdir()\n",
        "print(f\"Direktori '{dir_test}' berhasil dihapus.\")"
      ]
    },
    {
      "cell_type": "markdown",
      "metadata": {},
      "source": [
        "--- \n",
        "# 🚀 Latihan Praktis\n",
        "\n",
        "Sekarang saatnya menguji pemahaman Anda. Kerjakan soal-soal di bawah ini. Latihan ini akan membuat file dan direktori baru di folder tempat notebook ini berada."
      ]
    },
    {
      "cell_type": "markdown",
      "metadata": {},
      "source": [
        "### Latihan 1: Setup Proyek\n",
        "\n",
        "**Tugas:** Buat sebuah struktur direktori dan file sebagai berikut:\n",
        "```\n",
        "latihan_pathlib/\n",
        "└── tugas_1/\n",
        "    └── catatan.txt\n",
        "```\n",
        "Isi dari file `catatan.txt` harus berupa teks: `Saya sedang belajar pathlib.`\n",
        "\n",
        "**Petunjuk:** Anda mungkin perlu `mkdir()` dengan `parents=True` dan `write_text()`."
      ]
    },
    {
      "cell_type": "code",
      "execution_count": null,
      "metadata": {
        "tags": []
      },
      "outputs": [],
      "source": [
        "from pathlib import Path\n",
        "\n",
        "# TULIS KODE JAWABAN ANDA DI SINI\n",
        "\n"
      ]
    },
    {
      "cell_type": "code",
      "execution_count": null,
      "metadata": {},
      "outputs": [],
      "source": [
        "# KODE PENGECEK (Jalankan sel ini untuk memeriksa jawaban Anda)\n",
        "print(\"--- Mengecek Latihan 1 ---\")\n",
        "path_tujuan = Path('latihan_pathlib/tugas_1/catatan.txt')\n",
        "try:\n",
        "    if path_tujuan.exists() and path_tujuan.is_file():\n",
        "        if path_tujuan.read_text() == \"Saya sedang belajar pathlib.\":\n",
        "            print(\"✅ Berhasil! Struktur direktori dan isi file sudah benar.\")\n",
        "        else:\n",
        "            print(f\"❌ Gagal! Isi file salah. Seharusnya 'Saya sedang belajar pathlib.', tapi isinya '{path_tujuan.read_text()}'\")\n",
        "    else:\n",
        "        print(f\"❌ Gagal! File '{path_tujuan}' tidak ditemukan atau bukan file.\")\n",
        "except Exception as e:\n",
        "    print(f\"❌ Terjadi error saat pengecekan: {e}\")"
      ]
    },
    {
      "cell_type": "markdown",
      "metadata": {},
      "source": [
        "<details>\n",
        "<summary>Lihat Solusi Latihan 1</summary>\n",
        "\n",
        "```python\n",
        "from pathlib import Path\n",
        "\n",
        "# Mendefinisikan path ke direktori yang ingin dibuat\n",
        "tugas1_dir = Path(\"latihan_pathlib/tugas_1\")\n",
        "\n",
        "# Membuat direktori. parents=True memastikan direktori induk (latihan_pathlib) juga dibuat jika belum ada.\n",
        "tugas1_dir.mkdir(parents=True, exist_ok=True)\n",
        "\n",
        "# Membuat path lengkap ke file\n",
        "file_catatan = tugas1_dir / \"catatan.txt\"\n",
        "\n",
        "# Menulis teks ke dalam file\n",
        "file_catatan.write_text(\"Saya sedang belajar pathlib.\")\n",
        "\n",
        "print(f\"File '{file_catatan}' berhasil dibuat.\")\n",
        "```\n",
        "</details>"
      ]
    },
    {
      "cell_type": "markdown",
      "metadata": {},
      "source": [
        "### Latihan 2: Iterasi dan Pengelompokan File\n",
        "\n",
        "**Tugas:** \n",
        "1. Buat 5 file baru di dalam direktori `latihan_pathlib/tugas_1/`:\n",
        "   - `laporan-01.csv`\n",
        "   - `laporan-02.csv`\n",
        "   - `data_gambar.png`\n",
        "   - `data_text.txt`\n",
        "   - `arsip.zip`\n",
        "2. Buat direktori baru bernama `latihan_pathlib/csv_files`.\n",
        "3. Gunakan `glob()` untuk menemukan semua file `.csv` di dalam `latihan_pathlib/tugas_1/` dan **pindahkan** (rename) file-file tersebut ke direktori `latihan_pathlib/csv_files`.\n",
        "\n",
        "**Petunjuk:** Anda perlu `.touch()` untuk membuat file kosong, `mkdir()` untuk folder baru, `glob()` untuk mencari, dan `rename()` untuk memindahkan."
      ]
    },
    {
      "cell_type": "code",
      "execution_count": null,
      "metadata": {},
      "outputs": [],
      "source": [
        "from pathlib import Path\n",
        "\n",
        "# TULIS KODE JAWABAN ANDA DI SINI\n"
      ]
    },
    {
      "cell_type": "code",
      "execution_count": null,
      "metadata": {},
      "outputs": [],
      "source": [
        "# KODE PENGECEK (Jalankan sel ini untuk memeriksa jawaban Anda)\n",
        "print(\"--- Mengecek Latihan 2 ---\")\n",
        "csv_dir = Path('latihan_pathlib/csv_files')\n",
        "source_dir = Path('latihan_pathlib/tugas_1')\n",
        "try:\n",
        "    if not csv_dir.is_dir():\n",
        "        raise ValueError(\"Direktori 'csv_files' tidak ditemukan.\")\n",
        "    \n",
        "    csv_files_in_dest = list(csv_dir.glob('laporan-*.csv'))\n",
        "    csv_files_in_source = list(source_dir.glob('laporan-*.csv'))\n",
        "    \n",
        "    if len(csv_files_in_dest) == 2 and len(csv_files_in_source) == 0:\n",
        "        print(\"✅ Berhasil! File CSV telah berhasil dipindahkan.\")\n",
        "    elif len(csv_files_in_dest) != 2:\n",
        "        print(f\"❌ Gagal! Ditemukan {len(csv_files_in_dest)} file CSV di tujuan, seharusnya 2.\")\n",
        "    elif len(csv_files_in_source) != 0:\n",
        "        print(f\"❌ Gagal! Masih ada file CSV di direktori sumber, seharusnya dipindahkan.\")\n",
        "    else:\n",
        "        print(\"❌ Gagal! Cek kembali apakah file sudah dibuat dan dipindahkan dengan benar.\")\n",
        "\n",
        "except Exception as e:\n",
        "    print(f\"❌ Terjadi error saat pengecekan: {e}\")"
      ]
    },
    {
      "cell_type": "markdown",
      "metadata": {},
      "source": [
        "<details>\n",
        "<summary>Lihat Solusi Latihan 2</summary>\n",
        "\n",
        "```python\n",
        "from pathlib import Path\n",
        "\n",
        "# Definisikan direktori kerja\n",
        "source_dir = Path(\"latihan_pathlib/tugas_1\")\n",
        "\n",
        "# 1. Buat file-file dummy\n",
        "files_to_create = ['laporan-01.csv', 'laporan-02.csv', 'data_gambar.png', 'data_text.txt', 'arsip.zip']\n",
        "for filename in files_to_create:\n",
        "    (source_dir / filename).touch()\n",
        "print(f\"File-file di {source_dir} berhasil dibuat.\")\n",
        "\n",
        "# 2. Buat direktori tujuan\n",
        "csv_dest_dir = Path(\"latihan_pathlib/csv_files\")\n",
        "csv_dest_dir.mkdir(exist_ok=True)\n",
        "print(f\"Direktori {csv_dest_dir} berhasil dibuat.\")\n",
        "\n",
        "# 3. Cari dan pindahkan file .csv\n",
        "for csv_file in source_dir.glob('*.csv'):\n",
        "    # Buat path tujuan baru dengan nama file yang sama\n",
        "    tujuan = csv_dest_dir / csv_file.name\n",
        "    # Pindahkan file\n",
        "    csv_file.rename(tujuan)\n",
        "    print(f\"Memindahkan {csv_file.name} ke {csv_dest_dir}\")\n",
        "```\n",
        "</details>"
      ]
    },
    {
      "cell_type": "markdown",
      "metadata": {},
      "source": [
        "### Latihan 3: Membersihkan Semuanya\n",
        "\n",
        "**Tugas:** Hapus seluruh direktori `latihan_pathlib` beserta semua isinya.\n",
        "\n",
        "**Peringatan:** Ini adalah tugas yang sedikit lebih sulit karena `rmdir()` hanya bisa menghapus direktori yang kosong. Anda perlu menghapus semua file dan sub-direktori terlebih dahulu sebelum menghapus direktori utamanya.\n",
        "\n",
        "**Petunjuk:** Anda bisa menggunakan `rglob('*')` untuk mendapatkan semua item secara rekursif. Kemudian, iterasi hasilnya untuk menghapus file (`.unlink()`) dan direktori (`.rmdir()`). Mungkin Anda perlu melakukan iterasi dua kali, atau melakukan iterasi pada list yang sudah diurutkan."
      ]
    },
    {
      "cell_type": "code",
      "execution_count": null,
      "metadata": {},
      "outputs": [],
      "source": [
        "from pathlib import Path\n",
        "\n",
        "# TULIS KODE JAWABAN ANDA DI SINI\n"
      ]
    },
    {
      "cell_type": "code",
      "execution_count": null,
      "metadata": {},
      "outputs": [],
      "source": [
        "# KODE PENGECEK (Jalankan sel ini untuk memeriksa jawaban Anda)\n",
        "print(\"--- Mengecek Latihan 3 ---\")\n",
        "main_dir = Path('latihan_pathlib')\n",
        "if not main_dir.exists():\n",
        "    print(\"✅ Berhasil! Direktori 'latihan_pathlib' dan semua isinya telah bersih.\")\n",
        "else:\n",
        "    print(\"❌ Gagal! Direktori 'latihan_pathlib' masih ada. Pastikan semua file dan sub-direktori sudah terhapus.\")"
      ]
    },
    {
      "cell_type": "markdown",
      "metadata": {},
      "source": [
        "<details>\n",
        "<summary>Lihat Solusi Latihan 3</summary>\n",
        "\n",
        "Ada dua cara utama: menggunakan `pathlib` murni (lebih mendidik) atau menggunakan modul `shutil` (lebih praktis di dunia nyata).\n",
        "\n",
        "**Solusi 1: Murni `pathlib`**\n",
        "\n",
        "```python\n",
        "from pathlib import Path\n",
        "\n",
        "main_dir = Path('latihan_pathlib')\n",
        "\n",
        "if main_dir.exists():\n",
        "    # Iterasi pertama: hapus semua file\n",
        "    for item in main_dir.rglob('*'):\n",
        "        if item.is_file():\n",
        "            item.unlink()\n",
        "            print(f\"Menghapus file: {item}\")\n",
        "    \n",
        "    # Iterasi kedua: hapus semua direktori yang kini kosong, dari yang terdalam\n",
        "    for item in sorted(list(main_dir.rglob('*')), key=lambda p: len(p.parts), reverse=True):\n",
        "        if item.is_dir():\n",
        "            item.rmdir()\n",
        "            print(f\"Menghapus direktori: {item}\")\n",
        "\n",
        "    # Terakhir, hapus direktori utama\n",
        "    main_dir.rmdir()\n",
        "    print(f\"Menghapus direktori utama: {main_dir}\")\n",
        "```\n",
        "\n",
        "**Solusi 2: Menggunakan `shutil` (Cara Mudah)**\n",
        "Modul `shutil` menyediakan fungsi `rmtree` (remove tree) yang bisa menghapus direktori dan seluruh isinya secara rekursif.\n",
        "```python\n",
        "from pathlib import Path\n",
        "import shutil\n",
        "\n",
        "main_dir = Path('latihan_pathlib')\n",
        "\n",
        "if main_dir.exists():\n",
        "    shutil.rmtree(main_dir)\n",
        "    print(f\"Direktori {main_dir} dan isinya berhasil dihapus menggunakan shutil.\")\n",
        "```\n",
        "</details>"
      ]
    },
    {
      "cell_type": "markdown",
      "metadata": {},
      "source": [
        "## Kesimpulan\n",
        "\n",
        "Anda sekarang telah mempelajari fondasi dari `pathlib`:\n",
        "\n",
        "1.  **Membuat Objek Path**: `Path('path/ke/file')` dan menggunakan operator `/`.\n",
        "2.  **Mengakses Komponen**: `.name`, `.stem`, `.suffix`, `.parent`.\n",
        "3.  **Inspeksi Path**: `.exists()`, `.is_dir()`, `.is_file()`.\n",
        "4.  **Manipulasi**: `.mkdir()`, `.write_text()`, `.read_text()`, `.iterdir()`, `.glob()`, `.rename()`, `.unlink()`.\n",
        "\n",
        "Dengan menguasai konsep-konsep ini dan mempraktikkannya melalui latihan, Anda sudah siap untuk menangani 90% tugas-tugas yang berhubungan dengan file sistem di Python dengan cara yang lebih bersih, modern, dan tidak rentan kesalahan. Selamat mencoba!"
      ]
    }
  ],
  "metadata": {
    "kernelspec": {
      "display_name": "Python 3 (ipykernel)",
      "language": "python",
      "name": "python3"
    },
    "language_info": {
      "codemirror_mode": {
        "name": "ipython",
        "version": 3
      },
      "file_extension": ".py",
      "mimetype": "text/x-python",
      "name": "python",
      "nbconvert_exporter": "python",
      "pygments_lexer": "ipython3",
      "version": "3.11.5"
    }
  },
  "nbformat": 4,
  "nbformat_minor": 4
}
